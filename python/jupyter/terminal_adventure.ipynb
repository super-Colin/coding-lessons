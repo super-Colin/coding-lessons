{
 "metadata": {
  "language_info": {
   "codemirror_mode": {
    "name": "ipython",
    "version": 3
   },
   "file_extension": ".py",
   "mimetype": "text/x-python",
   "name": "python",
   "nbconvert_exporter": "python",
   "pygments_lexer": "ipython3",
   "version": "3.8.5"
  },
  "orig_nbformat": 2,
  "kernelspec": {
   "name": "python3",
   "display_name": "Python 3",
   "language": "python"
  }
 },
 "nbformat": 4,
 "nbformat_minor": 2,
 "cells": [
  {
   "cell_type": "code",
   "execution_count": 146,
   "metadata": {},
   "outputs": [],
   "source": [
    "import random # We'll use randomness later...\n",
    "\n",
    "# If we want an adventure we need some threats\n",
    "monsters = [\"Firefly\", \"Goblin\", \"Troll\", \"Man eating anteater\", \"Dragon\"]\n",
    "traps = [\"spikes\", \"lava\", \"trap door\"]\n",
    "# and maybe some allies???\n",
    "allies = [\"Chewy the White Knight\", \"Professor Courage\", \"Pudge\"]\n",
    "\n",
    "# I think we'll have a health pool as a way to end the game\n",
    "player_health = 100\n",
    "# And we'll use gold as a way to give points\n",
    "player_gold = 0\n",
    "\n",
    "# We'll make a \"game over\" variable incase we want to do something weird with health later\n",
    "game_over = False\n",
    "\n",
    "# and we'll make a function that checks if the player is still dead and sets game_over to True\n",
    "\n",
    "def check_player_is_alive():\n",
    "    if player_health <= 0:\n",
    "        print(\"You are dead\")\n",
    "        game_over = True"
   ]
  },
  {
   "cell_type": "code",
   "execution_count": 148,
   "metadata": {},
   "outputs": [
    {
     "output_type": "stream",
     "name": "stdout",
     "text": [
      "Welcome 4\n",
      "press 0 to Frolic in the flowers\n",
      "press 1 to Enter the dungeon of death\n",
      "press 2 to watch birds\n",
      "Please enter a valid number\n"
     ]
    },
    {
     "output_type": "execute_result",
     "data": {
      "text/plain": [
       "False"
      ]
     },
     "metadata": {},
     "execution_count": 148
    }
   ],
   "source": [
    "# So we have a few things in mind, let's welcome the player and get some input to get started\n",
    "player_name = input(\"You will die... What name do you want on your tombstone?\")\n",
    "print(\"Welcome \" + player_name)\n",
    "\n",
    "# I think we'll use numbers for the player to select what action they want to take\n",
    "\n",
    "# First let's define some actions\n",
    "all_actions = [\"Frolic in the flowers\", \"Enter the dungeon of death\", \"watch birds\"]\n",
    "\n",
    "\n",
    "# Now lets set up a reusable function to list the options and ask the player what they want to do\n",
    "def give_player_choice():\n",
    "    on_number = 0\n",
    "    for single_action in all_actions:\n",
    "        print(\"press \" + str(on_number) + \" to \" + single_action)\n",
    "        on_number = on_number + 1\n",
    "    # Notice these lines are indented, so we're still inside the function\n",
    "    players_choice = input(\"what would you like to do\") \n",
    "    # and lets make sure it's a number and in range of our actions\n",
    "    if not( players_choice.isnumeric() ):\n",
    "        print(\"Please enter a valid number\")\n",
    "        return False # We'll return false to check for later\n",
    "    if int(players_choice) >= on_number:\n",
    "        print(\"Please enter a valid number\")\n",
    "        return False \n",
    "    return int(players_choice) # We'll make sure to return it as an int too\n",
    "give_player_choice()"
   ]
  },
  {
   "cell_type": "code",
   "execution_count": 150,
   "metadata": {},
   "outputs": [],
   "source": [
    "# So we have some monsters, a health bar, a few actions and a way to list them out and get a choice from the player.\n",
    "\n",
    "# But are actions are only strings right now, so let's make them do something\n",
    "def frolic():\n",
    "    print('you frolic through the flowers for a while and find a gold piece')\n",
    "    player_gold = player_gold + 1\n",
    "\n",
    "def dungeon():\n",
    "    monster_number = random.randint(0, len(monsters) - 1)\n",
    "    monster_encountered = monsters[monster_number]\n",
    "    health_lost = monster_number * 4 # this is kinda lazy but oh well..\n",
    "    gold_gained = monster_number * 5\n",
    "    print(\"You ran into a \" + monster_encountered + \" and lost \" + health_lost + \", but gained \" + gold_gained + \" gold!\")\n",
    "    global player_health\n",
    "    global player_gold\n",
    "    player_health = player_health - health_lost\n",
    "    player_gold = player_gold + gold_gained\n",
    "\n",
    "def birds():\n",
    "    print(\"You watch birds for a while\")"
   ]
  },
  {
   "cell_type": "code",
   "execution_count": null,
   "metadata": {},
   "outputs": [],
   "source": [
    "# This could be done a ton of different ways but I thought this was fairly simple\n",
    "# We'll just create an array of our functions to match the array of our actions\n",
    "\n",
    "# Our array was [\"Frollick in the flowers\", \"Enter the dungeon of death\", \"watch birds\"] so let's match that\n",
    "all_actions_functions = [frolic, dungeon, birds] # These are NOT in qoutes because they not strings, they are variables which happen to be functions\n",
    "def take_action(action_number):\n",
    "     all_actions_functions[action_number]() # Just grab the refernce and add parenthesis to execute the referenced function"
   ]
  },
  {
   "cell_type": "code",
   "execution_count": 151,
   "metadata": {},
   "outputs": [
    {
     "output_type": "stream",
     "name": "stdout",
     "text": [
      "press 0 to Frolic in the flowers\n",
      "press 1 to Enter the dungeon of death\n",
      "press 2 to watch birds\n",
      "Please enter a valid number\n",
      "you frolic through the flowers for a while and find a gold piece\n"
     ]
    },
    {
     "output_type": "error",
     "ename": "UnboundLocalError",
     "evalue": "local variable 'player_gold' referenced before assignment",
     "traceback": [
      "\u001b[0;31m---------------------------------------------------------------------------\u001b[0m",
      "\u001b[0;31mUnboundLocalError\u001b[0m                         Traceback (most recent call last)",
      "\u001b[0;32m<ipython-input-151-affa0911586d>\u001b[0m in \u001b[0;36m<module>\u001b[0;34m\u001b[0m\n\u001b[1;32m      9\u001b[0m     \u001b[0mchoice\u001b[0m \u001b[0;34m=\u001b[0m \u001b[0mgive_player_choice\u001b[0m\u001b[0;34m(\u001b[0m\u001b[0;34m)\u001b[0m\u001b[0;34m\u001b[0m\u001b[0;34m\u001b[0m\u001b[0m\n\u001b[1;32m     10\u001b[0m     \u001b[0;32mif\u001b[0m \u001b[0mchoice\u001b[0m \u001b[0;32mor\u001b[0m \u001b[0mchoice\u001b[0m \u001b[0;34m==\u001b[0m \u001b[0;36m0\u001b[0m\u001b[0;34m:\u001b[0m \u001b[0;31m# if selection wasn't valid we'll catch it here\u001b[0m\u001b[0;34m\u001b[0m\u001b[0;34m\u001b[0m\u001b[0m\n\u001b[0;32m---> 11\u001b[0;31m         \u001b[0mtake_action\u001b[0m\u001b[0;34m(\u001b[0m \u001b[0mchoice\u001b[0m \u001b[0;34m)\u001b[0m\u001b[0;34m\u001b[0m\u001b[0;34m\u001b[0m\u001b[0m\n\u001b[0m\u001b[1;32m     12\u001b[0m \u001b[0;34m\u001b[0m\u001b[0m\n\u001b[1;32m     13\u001b[0m     \u001b[0;32mif\u001b[0m \u001b[0mgame_over\u001b[0m\u001b[0;34m:\u001b[0m\u001b[0;34m\u001b[0m\u001b[0;34m\u001b[0m\u001b[0m\n",
      "\u001b[0;32m<ipython-input-149-070016527796>\u001b[0m in \u001b[0;36mtake_action\u001b[0;34m(action_number)\u001b[0m\n\u001b[1;32m      5\u001b[0m \u001b[0mall_actions_functions\u001b[0m \u001b[0;34m=\u001b[0m \u001b[0;34m[\u001b[0m\u001b[0mfrolic\u001b[0m\u001b[0;34m,\u001b[0m \u001b[0mdungeon\u001b[0m\u001b[0;34m,\u001b[0m \u001b[0mbirds\u001b[0m\u001b[0;34m]\u001b[0m \u001b[0;31m# These are NOT in qoutes because they not strings, they are variables which happen to be functions\u001b[0m\u001b[0;34m\u001b[0m\u001b[0;34m\u001b[0m\u001b[0m\n\u001b[1;32m      6\u001b[0m \u001b[0;32mdef\u001b[0m \u001b[0mtake_action\u001b[0m\u001b[0;34m(\u001b[0m\u001b[0maction_number\u001b[0m\u001b[0;34m)\u001b[0m\u001b[0;34m:\u001b[0m\u001b[0;34m\u001b[0m\u001b[0;34m\u001b[0m\u001b[0m\n\u001b[0;32m----> 7\u001b[0;31m      \u001b[0mall_actions_functions\u001b[0m\u001b[0;34m[\u001b[0m\u001b[0maction_number\u001b[0m\u001b[0;34m]\u001b[0m\u001b[0;34m(\u001b[0m\u001b[0;34m)\u001b[0m \u001b[0;31m# Just grab the refernce and add parenthesis to execute the referenced function\u001b[0m\u001b[0;34m\u001b[0m\u001b[0;34m\u001b[0m\u001b[0m\n\u001b[0m",
      "\u001b[0;32m<ipython-input-147-8cedaf2dd04b>\u001b[0m in \u001b[0;36mfrolic\u001b[0;34m()\u001b[0m\n\u001b[1;32m      4\u001b[0m \u001b[0;32mdef\u001b[0m \u001b[0mfrolic\u001b[0m\u001b[0;34m(\u001b[0m\u001b[0;34m)\u001b[0m\u001b[0;34m:\u001b[0m\u001b[0;34m\u001b[0m\u001b[0;34m\u001b[0m\u001b[0m\n\u001b[1;32m      5\u001b[0m     \u001b[0mprint\u001b[0m\u001b[0;34m(\u001b[0m\u001b[0;34m'you frolic through the flowers for a while and find a gold piece'\u001b[0m\u001b[0;34m)\u001b[0m\u001b[0;34m\u001b[0m\u001b[0;34m\u001b[0m\u001b[0m\n\u001b[0;32m----> 6\u001b[0;31m     \u001b[0mplayer_gold\u001b[0m \u001b[0;34m=\u001b[0m \u001b[0mplayer_gold\u001b[0m \u001b[0;34m+\u001b[0m \u001b[0;36m1\u001b[0m\u001b[0;34m\u001b[0m\u001b[0;34m\u001b[0m\u001b[0m\n\u001b[0m\u001b[1;32m      7\u001b[0m \u001b[0;34m\u001b[0m\u001b[0m\n\u001b[1;32m      8\u001b[0m \u001b[0;32mdef\u001b[0m \u001b[0mdungeon\u001b[0m\u001b[0;34m(\u001b[0m\u001b[0;34m)\u001b[0m\u001b[0;34m:\u001b[0m\u001b[0;34m\u001b[0m\u001b[0;34m\u001b[0m\u001b[0m\n",
      "\u001b[0;31mUnboundLocalError\u001b[0m: local variable 'player_gold' referenced before assignment"
     ]
    }
   ],
   "source": [
    "# Let's make a function to use when the game is over\n",
    "def end_game():\n",
    "    print(\"You have died a valant death and earned \" + player_gold + \" gold on your journey\")\n",
    "\n",
    "# To start and continue the game we'll put it inside a loop, and run that loop until the game_over variable is True\n",
    "\n",
    "while not( game_over ):\n",
    "\n",
    "    choice = give_player_choice()\n",
    "    if choice or choice == 0: # if selection wasn't valid we'll catch it here\n",
    "        take_action( choice )\n",
    "\n",
    "    if game_over:\n",
    "        end_game()"
   ]
  },
  {
   "cell_type": "code",
   "execution_count": 153,
   "metadata": {},
   "outputs": [],
   "source": [
    "# --- on going list of searches: ---\n",
    "# ant eater -> anteater\n",
    "# python if\n",
    "# python bool\n",
    "# weird\n",
    "# python terminal\n",
    "# python input\n",
    "# python concat\n",
    "# frollick -> frolic\n",
    "# python loop through array\n",
    "# python int to str\n",
    "# python is var int\n",
    "# python logical operators\n",
    "# invalid literal for int()\n",
    "# python pass function reference \n",
    "# python pass function reference to other function\n",
    "# python check if string to int\n",
    "# python unboundlocalerror\n",
    "# python global variable in function"
   ]
  }
 ]
}