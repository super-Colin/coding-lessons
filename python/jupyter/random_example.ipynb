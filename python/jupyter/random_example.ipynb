{
 "metadata": {
  "orig_nbformat": 2,
  "kernelspec": {
   "name": "python3",
   "display_name": "Python 3",
   "language": "python"
  }
 },
 "nbformat": 4,
 "nbformat_minor": 2,
 "cells": [
  {
   "source": [
    "this_thing = \"thing\"\n",
    "my_array = [\"something\", \"another\", 10, this_thing]\n",
    "# now our variables are in memory\n",
    "print(this_thing)\n",
    "print(my_array)"
   ],
   "cell_type": "code",
   "metadata": {},
   "execution_count": 1,
   "outputs": [
    {
     "output_type": "stream",
     "name": "stdout",
     "text": [
      "thing\n['something', 'another', 10, 'thing']\n"
     ]
    }
   ]
  },
  {
   "cell_type": "code",
   "execution_count": 15,
   "metadata": {},
   "outputs": [
    {
     "output_type": "stream",
     "name": "stdout",
     "text": [
      "2\n"
     ]
    }
   ],
   "source": [
    "from random import * # In Python we need to import the 'random' \"module\" to use it\n",
    "import math # this import the entire 'math' module in slightly different way\n",
    "def get_random_number(max_number):\n",
    "    random_number = random()\n",
    "    random_number = random_number * max_number\n",
    "    random_number = math.ceil(random_number) - 1 # we minus 1 so we can end up with a 0 \n",
    "    return random_number # and return the number so we can use it later\n",
    "print( get_random_number(4) )"
   ]
  },
  {
   "cell_type": "code",
   "execution_count": 3,
   "metadata": {},
   "outputs": [
    {
     "output_type": "stream",
     "name": "stdout",
     "text": [
      "something\n"
     ]
    }
   ],
   "source": [
    "random_selection = my_array[ get_random_number(4) ]\n",
    "print(random_selection)"
   ]
  },
  {
   "cell_type": "code",
   "execution_count": 18,
   "metadata": {},
   "outputs": [
    {
     "output_type": "stream",
     "name": "stdout",
     "text": [
      "--- our final random selection is ---\nanother\n"
     ]
    }
   ],
   "source": [
    "# something small we can do that will make it a lot better is to get the length of our array\n",
    "array_length = len(my_array)\n",
    "random_number = get_random_number(array_length)\n",
    "print(\"--- our final random selection is: ---\")\n",
    "print( my_array[ random_number ] )"
   ]
  },
  {
   "cell_type": "code",
   "execution_count": null,
   "metadata": {},
   "outputs": [],
   "source": []
  }
 ]
}